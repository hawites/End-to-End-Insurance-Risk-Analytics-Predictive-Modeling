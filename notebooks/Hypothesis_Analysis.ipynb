{
 "cells": [
  {
   "cell_type": "code",
   "execution_count": 4,
   "id": "074deebb-9873-48dd-b31d-f9b37262cb72",
   "metadata": {},
   "outputs": [
    {
     "data": {
      "text/plain": [
       "{'province_risk': {'p_value': np.float64(5.926803398618002e-19),\n",
       "  'reject_H0': np.True_},\n",
       " 'zip_risk': {'p_value': np.float64(0.701055106094242),\n",
       "  'reject_H0': np.False_},\n",
       " 'zip_margin': {'p_value': np.float64(0.8889868291854403),\n",
       "  'reject_H0': np.False_},\n",
       " 'gender_risk': {'p_value': np.float64(0.8371873107059133),\n",
       "  'reject_H0': np.False_}}"
      ]
     },
     "execution_count": 4,
     "metadata": {},
     "output_type": "execute_result"
    }
   ],
   "source": [
    "import sys\n",
    "import os\n",
    "import importlib\n",
    "import pandas as pd\n",
    "sys.path.append(os.path.abspath(\"..\"))\n",
    "import src.analysis.risk_hypothesis_testing\n",
    "importlib.reload(src.analysis.risk_hypothesis_testing)\n",
    "\n",
    "from src.analysis.risk_hypothesis_testing import HypothesisTester\n",
    "\n",
    "\n",
    "# Load your cleaned data\n",
    "df = pd.read_csv(\"../data/cleaned/machine_learning_rating_cleaned.csv\", low_memory=False)\n",
    "\n",
    "# Run hypothesis tests\n",
    "tester = HypothesisTester(df)\n",
    "results = tester.run_all_tests()\n",
    "\n",
    "# View results\n",
    "results\n"
   ]
  },
  {
   "cell_type": "code",
   "execution_count": null,
   "id": "adc24acf-fe6c-4652-bae9-fdd759319068",
   "metadata": {},
   "outputs": [],
   "source": []
  }
 ],
 "metadata": {
  "kernelspec": {
   "display_name": "Python 3 (ipykernel)",
   "language": "python",
   "name": "python3"
  },
  "language_info": {
   "codemirror_mode": {
    "name": "ipython",
    "version": 3
   },
   "file_extension": ".py",
   "mimetype": "text/x-python",
   "name": "python",
   "nbconvert_exporter": "python",
   "pygments_lexer": "ipython3",
   "version": "3.13.0"
  }
 },
 "nbformat": 4,
 "nbformat_minor": 5
}
